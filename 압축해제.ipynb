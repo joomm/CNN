{
  "nbformat": 4,
  "nbformat_minor": 0,
  "metadata": {
    "colab": {
      "provenance": [],
      "gpuType": "T4",
      "authorship_tag": "ABX9TyMQ9BcHH43T7PgAFoLa2bKc",
      "include_colab_link": true
    },
    "kernelspec": {
      "name": "python3",
      "display_name": "Python 3"
    },
    "language_info": {
      "name": "python"
    },
    "accelerator": "GPU"
  },
  "cells": [
    {
      "cell_type": "markdown",
      "metadata": {
        "id": "view-in-github",
        "colab_type": "text"
      },
      "source": [
        "<a href=\"https://colab.research.google.com/github/joomm/CNN/blob/main/%EC%95%95%EC%B6%95%ED%95%B4%EC%A0%9C.ipynb\" target=\"_parent\"><img src=\"https://colab.research.google.com/assets/colab-badge.svg\" alt=\"Open In Colab\"/></a>"
      ]
    },
    {
      "cell_type": "markdown",
      "source": [
        "폴더삭제코드"
      ],
      "metadata": {
        "id": "RAJyJgcKP3Ta"
      }
    },
    {
      "cell_type": "code",
      "source": [
        "import shutil\n",
        "\n",
        "def remove_folders_with_contents(path):\n",
        "    for folder_name in os.listdir(path):\n",
        "        folder_path = os.path.join(path, folder_name)\n",
        "        try:\n",
        "            shutil.rmtree(folder_path)\n",
        "            print(f\"Deleted folder and its contents: {folder_path}\")\n",
        "        except OSError:\n",
        "            print(f\"Failed to delete folder and its contents: {folder_path}\")\n",
        "\n",
        "# 디렉토리 경로 설정\n",
        "directory_path = '/content/08d94f4f5a7b2f737e2f91d423ccf1f95a3e0c8a1fa1d21c3b9bf34c79f5b374'\n",
        "\n",
        "# 폴더와 내용 삭제 함수 호출\n",
        "remove_folders_with_contents(directory_path)"
      ],
      "metadata": {
        "colab": {
          "base_uri": "https://localhost:8080/"
        },
        "id": "AllAu3SIK2jp",
        "outputId": "1530aefa-c065-4fe1-9d39-72f9a2184ae8"
      },
      "execution_count": null,
      "outputs": [
        {
          "output_type": "stream",
          "name": "stdout",
          "text": [
            "Failed to delete folder and its contents: /content/08d94f4f5a7b2f737e2f91d423ccf1f95a3e0c8a1fa1d21c3b9bf34c79f5b374/layer.tar\n",
            "Failed to delete folder and its contents: /content/08d94f4f5a7b2f737e2f91d423ccf1f95a3e0c8a1fa1d21c3b9bf34c79f5b374/json\n",
            "Failed to delete folder and its contents: /content/08d94f4f5a7b2f737e2f91d423ccf1f95a3e0c8a1fa1d21c3b9bf34c79f5b374/VERSION\n"
          ]
        }
      ]
    },
    {
      "cell_type": "markdown",
      "source": [
        "압축파일풀기"
      ],
      "metadata": {
        "id": "XDLOHovnP-58"
      }
    },
    {
      "cell_type": "code",
      "execution_count": null,
      "metadata": {
        "colab": {
          "base_uri": "https://localhost:8080/"
        },
        "id": "YxC5d8s35qMZ",
        "outputId": "76e73ea5-f963-4d02-d9db-1a0c68054946"
      },
      "outputs": [
        {
          "output_type": "stream",
          "name": "stdout",
          "text": [
            "/content/drive/MyDrive/Colab Notebooks\n"
          ]
        }
      ],
      "source": [
        "%cd /content/drive/MyDrive/Colab Notebooks\n",
        "\n",
        "!unzip -qq \"/content/drive/MyDrive/03.AI모델_new.zip\""
      ]
    },
    {
      "cell_type": "code",
      "source": [
        "import os\n",
        "import tarfile\n",
        "\n",
        "target_folder = '/content/drive/MyDrive/Colab Notebooks/file/3fba5a28a1528a32ce6b5f4cb217b16eb4239a484e5280c36b99cc22e08fd4c7'\n",
        "\n",
        "with tarfile.open(os.path.join(target_folder, 'layer.tar'), 'r') as f:\n",
        "  f.extractall(target_folder)\n"
      ],
      "metadata": {
        "id": "OIzmj9Wn6JEF"
      },
      "execution_count": null,
      "outputs": []
    },
    {
      "cell_type": "markdown",
      "source": [
        "---\n",
        "\n",
        "---\n",
        "\n",
        "\n",
        "\n",
        "\n",
        "\n"
      ],
      "metadata": {
        "id": "49XtJXwlQD61"
      }
    },
    {
      "cell_type": "code",
      "source": [
        "opencv-python\n",
        "matplotlib\n",
        "pillow\n",
        "tqdm\n",
        "numpy\n",
        "albumentations\n",
        "scikit-learn\n",
        "pandas"
      ],
      "metadata": {
        "id": "JY1A_RszEN9B"
      },
      "execution_count": null,
      "outputs": []
    },
    {
      "cell_type": "code",
      "source": [
        "from google.colab import drive\n",
        "drive.mount('/content/drive')"
      ],
      "metadata": {
        "colab": {
          "base_uri": "https://localhost:8080/"
        },
        "id": "4yiquHz25rVI",
        "outputId": "d00c18d2-ba28-4570-a5e6-373f74e4254b"
      },
      "execution_count": 99,
      "outputs": [
        {
          "output_type": "stream",
          "name": "stdout",
          "text": [
            "Drive already mounted at /content/drive; to attempt to forcibly remount, call drive.mount(\"/content/drive\", force_remount=True).\n"
          ]
        }
      ]
    },
    {
      "cell_type": "code",
      "source": [
        "import sys\n",
        "# 모듈 저장\n",
        "with open('config.py', 'w') as file:\n",
        "    file.write(\"\"\"\n",
        "class config():\n",
        "    path_prefix = '/content/drive/MyDrive/cnn/root'\n",
        "    path_data = 'dataset'\n",
        "\n",
        "    dict_label = {'11': {'00':0, '18': 1, '19': 2}}\n",
        "\n",
        "    # general args\n",
        "    gpu = 0\n",
        "    train_size = (512, 512)\n",
        "    train_model = 'resnet50' #'ENet'\n",
        "    pnum = 77\n",
        "    crop_name = '11'\n",
        "    num_classes = 3\n",
        "\n",
        "    # testing args\n",
        "    test_model_path = '/content/drive/MyDrive/cnn/root/weights/sample.pt'\n",
        "\"\"\")\n",
        "\n",
        "# config 모듈이 현재 sys.modules에 있는지 확인\n",
        "if 'config' in sys.modules:\n",
        "    # 모듈이 로드되어 있다면 모듈을 다시 로드\n",
        "    import importlib\n",
        "    import config\n",
        "    importlib.reload(config)\n",
        "\n",
        "    # config 모듈 내용 확인\n",
        "    print(config.__dict__)\n",
        "\n",
        "else:\n",
        "    # 모듈이 로드되어 있지 않다면 import 문을 통해 로드\n",
        "    import config"
      ],
      "metadata": {
        "id": "J6QpWQ4lDfwJ",
        "colab": {
          "base_uri": "https://localhost:8080/"
        },
        "outputId": "80e3854a-169e-485d-d8e9-c986a946ec66"
      },
      "execution_count": 100,
      "outputs": [
        {
          "output_type": "stream",
          "name": "stdout",
          "text": [
            "{'__name__': 'config', '__doc__': None, '__package__': '', '__loader__': <_frozen_importlib_external.SourceFileLoader object at 0x7acdb8c82ad0>, '__spec__': ModuleSpec(name='config', loader=<_frozen_importlib_external.SourceFileLoader object at 0x7acdb8c82ad0>, origin='/content/config.py'), '__file__': '/content/config.py', '__cached__': '/content/__pycache__/config.cpython-310.pyc', '__builtins__': {'__name__': 'builtins', '__doc__': \"Built-in functions, exceptions, and other objects.\\n\\nNoteworthy: None is the `nil' object; Ellipsis represents `...' in slices.\", '__package__': '', '__loader__': <class '_frozen_importlib.BuiltinImporter'>, '__spec__': ModuleSpec(name='builtins', loader=<class '_frozen_importlib.BuiltinImporter'>, origin='built-in'), '__build_class__': <built-in function __build_class__>, '__import__': <built-in function __import__>, 'abs': <built-in function abs>, 'all': <built-in function all>, 'any': <built-in function any>, 'ascii': <built-in function ascii>, 'bin': <built-in function bin>, 'breakpoint': <built-in function breakpoint>, 'callable': <built-in function callable>, 'chr': <built-in function chr>, 'compile': <built-in function compile>, 'delattr': <built-in function delattr>, 'dir': <built-in function dir>, 'divmod': <built-in function divmod>, 'eval': <built-in function eval>, 'exec': <built-in function exec>, 'format': <built-in function format>, 'getattr': <built-in function getattr>, 'globals': <built-in function globals>, 'hasattr': <built-in function hasattr>, 'hash': <built-in function hash>, 'hex': <built-in function hex>, 'id': <built-in function id>, 'input': <bound method Kernel.raw_input of <google.colab._kernel.Kernel object at 0x7acecfd82530>>, 'isinstance': <built-in function isinstance>, 'issubclass': <built-in function issubclass>, 'iter': <built-in function iter>, 'aiter': <built-in function aiter>, 'len': <built-in function len>, 'locals': <built-in function locals>, 'max': <built-in function max>, 'min': <built-in function min>, 'next': <built-in function next>, 'anext': <built-in function anext>, 'oct': <built-in function oct>, 'ord': <built-in function ord>, 'pow': <built-in function pow>, 'print': <built-in function print>, 'repr': <built-in function repr>, 'round': <built-in function round>, 'setattr': <built-in function setattr>, 'sorted': <built-in function sorted>, 'sum': <built-in function sum>, 'vars': <built-in function vars>, 'None': None, 'Ellipsis': Ellipsis, 'NotImplemented': NotImplemented, 'False': False, 'True': True, 'bool': <class 'bool'>, 'memoryview': <class 'memoryview'>, 'bytearray': <class 'bytearray'>, 'bytes': <class 'bytes'>, 'classmethod': <class 'classmethod'>, 'complex': <class 'complex'>, 'dict': <class 'dict'>, 'enumerate': <class 'enumerate'>, 'filter': <class 'filter'>, 'float': <class 'float'>, 'frozenset': <class 'frozenset'>, 'property': <class 'property'>, 'int': <class 'int'>, 'list': <class 'list'>, 'map': <class 'map'>, 'object': <class 'object'>, 'range': <class 'range'>, 'reversed': <class 'reversed'>, 'set': <class 'set'>, 'slice': <class 'slice'>, 'staticmethod': <class 'staticmethod'>, 'str': <class 'str'>, 'super': <class 'super'>, 'tuple': <class 'tuple'>, 'type': <class 'type'>, 'zip': <class 'zip'>, '__debug__': True, 'BaseException': <class 'BaseException'>, 'Exception': <class 'Exception'>, 'TypeError': <class 'TypeError'>, 'StopAsyncIteration': <class 'StopAsyncIteration'>, 'StopIteration': <class 'StopIteration'>, 'GeneratorExit': <class 'GeneratorExit'>, 'SystemExit': <class 'SystemExit'>, 'KeyboardInterrupt': <class 'KeyboardInterrupt'>, 'ImportError': <class 'ImportError'>, 'ModuleNotFoundError': <class 'ModuleNotFoundError'>, 'OSError': <class 'OSError'>, 'EnvironmentError': <class 'OSError'>, 'IOError': <class 'OSError'>, 'EOFError': <class 'EOFError'>, 'RuntimeError': <class 'RuntimeError'>, 'RecursionError': <class 'RecursionError'>, 'NotImplementedError': <class 'NotImplementedError'>, 'NameError': <class 'NameError'>, 'UnboundLocalError': <class 'UnboundLocalError'>, 'AttributeError': <class 'AttributeError'>, 'SyntaxError': <class 'SyntaxError'>, 'IndentationError': <class 'IndentationError'>, 'TabError': <class 'TabError'>, 'LookupError': <class 'LookupError'>, 'IndexError': <class 'IndexError'>, 'KeyError': <class 'KeyError'>, 'ValueError': <class 'ValueError'>, 'UnicodeError': <class 'UnicodeError'>, 'UnicodeEncodeError': <class 'UnicodeEncodeError'>, 'UnicodeDecodeError': <class 'UnicodeDecodeError'>, 'UnicodeTranslateError': <class 'UnicodeTranslateError'>, 'AssertionError': <class 'AssertionError'>, 'ArithmeticError': <class 'ArithmeticError'>, 'FloatingPointError': <class 'FloatingPointError'>, 'OverflowError': <class 'OverflowError'>, 'ZeroDivisionError': <class 'ZeroDivisionError'>, 'SystemError': <class 'SystemError'>, 'ReferenceError': <class 'ReferenceError'>, 'MemoryError': <class 'MemoryError'>, 'BufferError': <class 'BufferError'>, 'Warning': <class 'Warning'>, 'UserWarning': <class 'UserWarning'>, 'EncodingWarning': <class 'EncodingWarning'>, 'DeprecationWarning': <class 'DeprecationWarning'>, 'PendingDeprecationWarning': <class 'PendingDeprecationWarning'>, 'SyntaxWarning': <class 'SyntaxWarning'>, 'RuntimeWarning': <class 'RuntimeWarning'>, 'FutureWarning': <class 'FutureWarning'>, 'ImportWarning': <class 'ImportWarning'>, 'UnicodeWarning': <class 'UnicodeWarning'>, 'BytesWarning': <class 'BytesWarning'>, 'ResourceWarning': <class 'ResourceWarning'>, 'ConnectionError': <class 'ConnectionError'>, 'BlockingIOError': <class 'BlockingIOError'>, 'BrokenPipeError': <class 'BrokenPipeError'>, 'ChildProcessError': <class 'ChildProcessError'>, 'ConnectionAbortedError': <class 'ConnectionAbortedError'>, 'ConnectionRefusedError': <class 'ConnectionRefusedError'>, 'ConnectionResetError': <class 'ConnectionResetError'>, 'FileExistsError': <class 'FileExistsError'>, 'FileNotFoundError': <class 'FileNotFoundError'>, 'IsADirectoryError': <class 'IsADirectoryError'>, 'NotADirectoryError': <class 'NotADirectoryError'>, 'InterruptedError': <class 'InterruptedError'>, 'PermissionError': <class 'PermissionError'>, 'ProcessLookupError': <class 'ProcessLookupError'>, 'TimeoutError': <class 'TimeoutError'>, 'open': <built-in function open>, 'copyright': Copyright (c) 2001-2023 Python Software Foundation.\n",
            "All Rights Reserved.\n",
            "\n",
            "Copyright (c) 2000 BeOpen.com.\n",
            "All Rights Reserved.\n",
            "\n",
            "Copyright (c) 1995-2001 Corporation for National Research Initiatives.\n",
            "All Rights Reserved.\n",
            "\n",
            "Copyright (c) 1991-1995 Stichting Mathematisch Centrum, Amsterdam.\n",
            "All Rights Reserved., 'credits':     Thanks to CWI, CNRI, BeOpen.com, Zope Corporation and a cast of thousands\n",
            "    for supporting Python development.  See www.python.org for more information., 'license': Type license() to see the full license text, 'help': Type help() for interactive help, or help(object) for help about object., '__IPYTHON__': True, 'display': <function display at 0x7aced78eca60>, 'execfile': <function execfile at 0x7acec6b99ea0>, 'runfile': <function runfile at 0x7acec6c77a30>, '__pybind11_internals_v4_gcc_libstdcpp_cxxabi1014__': <capsule object NULL at 0x7ace81f4c990>, '__pybind11_internals_v4_gcc_libstdcpp_cxxabi1011__': <capsule object NULL at 0x7ace7e16c660>, '__pybind11_internals_v4_gcc_libstdcpp_cxxabi1013__': <capsule object NULL at 0x7acdd9609020>, 'get_ipython': <bound method InteractiveShell.get_ipython of <google.colab._shell.Shell object at 0x7acecfd825c0>>}, 'config': <class 'config.config'>}\n"
          ]
        }
      ]
    },
    {
      "cell_type": "code",
      "source": [
        "import albumentations\n",
        "\n",
        "from config import config as cfg\n",
        "\n",
        "test_aug = albumentations.Compose([albumentations.Normalize(mean=[0.485, 0.456, 0.406],\n",
        "                                                             std=[0.229, 0.224, 0.225],\n",
        "                                                             max_pixel_value=255.0,\n",
        "                                                             p=1.0)\n",
        "                                   ],\n",
        "                                   p=1.0)"
      ],
      "metadata": {
        "id": "2Ec1lxZjEod6"
      },
      "execution_count": 101,
      "outputs": []
    },
    {
      "cell_type": "code",
      "source": [
        "import torch.nn as nn\n",
        "import torchvision.models as models\n",
        "\n",
        "dict_backbone = {'resnet50' : models.resnet50}\n",
        "\n",
        "def get_model(model_name='resnet50', num_classes=3, pretrained=False): # use pretrained backbone\n",
        "    assert model_name in dict_backbone.keys()\n",
        "\n",
        "    network = dict_backbone[model_name](pretrained=pretrained)\n",
        "    network.fc = nn.Linear(network.fc.in_features, num_classes)\n",
        "\n",
        "    return network"
      ],
      "metadata": {
        "id": "hIXr70wwCrgJ"
      },
      "execution_count": 102,
      "outputs": []
    },
    {
      "cell_type": "code",
      "source": [
        "import os\n",
        "import numpy as np\n",
        "import datetime\n",
        "\n",
        "import torch\n",
        "\n",
        "def make_data(path, phase='train'):\n",
        "    path_images = []\n",
        "\n",
        "    for img_name in os.listdir(f'{path}/{phase}'):\n",
        "        if img_name.endswith(('.jpg', '.jpeg', '.png', '.JPG', '.JPEG', '.PNG')):\n",
        "            path_images.append(f'{path}/{phase}/{img_name}')\n",
        "\n",
        "    return np.stack(path_images)\n",
        "\n",
        "def cnt_correct(y_true, y_pred):\n",
        "    top_N, top_class = y_pred.topk(1, dim=-1)\n",
        "    equals = top_class == y_true.view(*top_class.shape)\n",
        "    return torch.sum(equals.type(torch.FloatTensor)).item()\n",
        "\n",
        "def log_with_timestamp(msg):\n",
        "    print(f'{datetime.datetime.today()} : {msg}')\n",
        "\n",
        "def bash_cmd(cmd):\n",
        "    print()\n",
        "    _ = os.system(cmd)\n",
        "    print()"
      ],
      "metadata": {
        "id": "5Z-ILCLWDPlJ"
      },
      "execution_count": 103,
      "outputs": []
    },
    {
      "cell_type": "code",
      "source": [
        "import cv2\n",
        "import numpy as np\n",
        "import json\n",
        "\n",
        "import torch\n",
        "from torch.utils.data import Dataset\n",
        "\n",
        "import transforms\n",
        "from config import config as cfg\n",
        "\n",
        "class CustomDataSet(Dataset):\n",
        "    def __init__(self, path_images, transform, test=False):\n",
        "        self.path_images = path_images\n",
        "        self.transform = transform\n",
        "        self.test = test\n",
        "\n",
        "    def __getitem__(self, index):\n",
        "        image = cv2.imread(self.path_images[index])[:,:,::-1]\n",
        "\n",
        "        with open(f'{self.path_images[index]}.json') as json_file:\n",
        "            json_decoded = json.load(json_file)\n",
        "        label = cfg.dict_label[f'{int(json_decoded[\"annotations\"][\"crop\"]):02d}'][f'{int(json_decoded[\"annotations\"][\"disease\"]):02d}']\n",
        "\n",
        "        resized_image = cv2.resize(image, cfg.train_size, interpolation = cv2.INTER_LANCZOS4) # INTER_AREA\n",
        "        augmented_image = self.transform(image=resized_image)['image']\n",
        "\n",
        "        if not self.test:\n",
        "            return torch.tensor(augmented_image.transpose(2,0,1)), torch.tensor(label).long()\n",
        "        else:\n",
        "            return torch.tensor(augmented_image.transpose(2,0,1)), torch.tensor(label).long(), self.path_images[index]\n",
        "\n",
        "    def __len__(self):\n",
        "        return len(self.path_images)"
      ],
      "metadata": {
        "id": "4cqvv6VSDze5"
      },
      "execution_count": 104,
      "outputs": []
    },
    {
      "cell_type": "code",
      "source": [
        "import os\n",
        "import numpy as np\n",
        "from tqdm import tqdm\n",
        "import pandas as pd\n",
        "\n",
        "import torch\n",
        "from torch.utils.data import DataLoader\n",
        "\n",
        "import torch.distributed as dist\n",
        "import torch.multiprocessing as mp\n",
        "from torch.nn.parallel import DistributedDataParallel\n",
        "\n",
        "import transforms\n",
        "import datasets\n",
        "import utils\n",
        "from models import get_model\n",
        "from config import config as cfg\n",
        "\n",
        "from sklearn.metrics import confusion_matrix, classification_report\n",
        "\n",
        "pnum = cfg.pnum\n",
        "crop_name = cfg.crop_name\n",
        "\n",
        "is_cuda = torch.cuda.is_available()\n",
        "\n",
        "os.environ['CUDA_VISIBLE_DEVICES'] = str(cfg.gpu)\n",
        "\n",
        "path_images_test = utils.make_data(f'{cfg.path_prefix}/{cfg.path_data}/{cfg.crop_name}', '1')\n",
        "\n",
        "def test(model, valid_loader, criterion):\n",
        "    model.eval()\n",
        "\n",
        "    list_true = []\n",
        "    list_pred = []\n",
        "\n",
        "    loss_sum = 0\n",
        "    correct_sum = 0\n",
        "\n",
        "    log_every = len(valid_loader)//5\n",
        "\n",
        "    len_data = 0\n",
        "\n",
        "    utils.log_with_timestamp(f'Test ... 0%')\n",
        "\n",
        "    for i, (image, label, name) in enumerate(valid_loader):\n",
        "        if is_cuda and cfg.gpu is not None:\n",
        "            image = image.cuda(cfg.gpu, non_blocking=True)\n",
        "            label = label.cuda(cfg.gpu, non_blocking=True)\n",
        "\n",
        "        pred = model(image)\n",
        "\n",
        "        loss = criterion(pred, label)\n",
        "        loss_sum += loss.item()\n",
        "\n",
        "        len_data += image.shape[0]\n",
        "        correct_sum += utils.cnt_correct(label, pred)\n",
        "\n",
        "        list_true.append(label.detach().cpu().numpy().flatten())\n",
        "        list_pred.append(pred.detach().cpu().numpy().argmax(-1).flatten())\n",
        "\n",
        "        if (i+1)%log_every == 0:\n",
        "            utils.log_with_timestamp(f'Test ... {((i+1)//log_every)*20}%')\n",
        "\n",
        "    return loss_sum/len_data, correct_sum/len_data, np.concatenate(list_true, axis=0), np.concatenate(list_pred, axis=0)\n",
        "\n",
        "\n",
        "def main():\n",
        "    print('========= Test Environment =========\\n')\n",
        "    _ = utils.bash_cmd('cat /proc/cpuinfo | grep \"model name\" | uniq')\n",
        "    _ = utils.bash_cmd('nvidia-smi')\n",
        "    _ = utils.bash_cmd('free -h')\n",
        "    _ = utils.bash_cmd('df /')\n",
        "    _ = utils.bash_cmd('cat /etc/os-release')\n",
        "\n",
        "    print('\\nPyTorch version: ', torch.__version__, '\\n')\n",
        "\n",
        "    utils.log_with_timestamp('Model loading ... ')\n",
        "    model = get_model(cfg.train_model, cfg.num_classes)\n",
        "    ckpt = torch.load(cfg.test_model_path, map_location='cpu')\n",
        "    model.load_state_dict(ckpt['model_state_dict'])\n",
        "\n",
        "    utils.log_with_timestamp('Model compiling ... ')\n",
        "    criterion = torch.nn.CrossEntropyLoss()\n",
        "\n",
        "    if cfg.gpu is not None and is_cuda:\n",
        "        utils.log_with_timestamp(f\"Use GPU: {cfg.gpu} for testing\")\n",
        "        torch.cuda.set_device(cfg.gpu)\n",
        "        model = model.cuda(cfg.gpu)\n",
        "    else:\n",
        "        utils.log_with_timestamp('Use CPU, this will be slow')\n",
        "\n",
        "    test_loader = DataLoader(datasets.CustomDataSet(path_images_test, transforms.test_aug, test=True), batch_size=1, shuffle=False, num_workers=0)\n",
        "\n",
        "    print('\\n===== Start testing =====\\n')\n",
        "    test_loss, test_acc, list_true, list_pred = test(model, test_loader, criterion)\n",
        "\n",
        "    print('\\n===== Test result =====\\n')\n",
        "    print(classification_report(list_true, list_pred, digits=5))\n",
        "    print('\\n========= Confusion Matrix =========\\n')\n",
        "    for rr in confusion_matrix(list_true, list_pred):\n",
        "        print(rr)\n",
        "\n",
        "    print('\\nLog csv ... ')\n",
        "    df = pd.DataFrame({'image_name': path_images_test,\n",
        "                       'true': list_true,\n",
        "                       'pred': list_pred})\n",
        "\n",
        "    df.to_csv(f'{pnum}_{crop_name}_log_each_sample.csv')\n",
        "\n",
        "    print('\\n===== Finished testing =====')\n",
        "\n",
        "    _ = utils.bash_cmd('sh rm_cache.sh')\n",
        "\n",
        "if __name__ == '__main__':\n",
        "    main()"
      ],
      "metadata": {
        "colab": {
          "base_uri": "https://localhost:8080/",
          "height": 686
        },
        "id": "G8lhgxCsD_2Y",
        "outputId": "4e06e22a-5276-4c52-9900-9e5243900cdd"
      },
      "execution_count": 105,
      "outputs": [
        {
          "output_type": "stream",
          "name": "stdout",
          "text": [
            "========= Test Environment =========\n",
            "\n",
            "\n",
            "\n",
            "\n",
            "\n",
            "\n",
            "\n",
            "\n",
            "\n",
            "\n",
            "\n",
            "\n",
            "PyTorch version:  2.1.0+cu118 \n",
            "\n",
            "2023-12-05 10:52:26.648211 : Model loading ... \n",
            "2023-12-05 10:52:28.487380 : Model compiling ... \n",
            "2023-12-05 10:52:28.488539 : Use GPU: 0 for testing\n",
            "\n",
            "===== Start testing =====\n",
            "\n",
            "2023-12-05 10:52:28.584344 : Test ... 0%\n"
          ]
        },
        {
          "output_type": "error",
          "ename": "KeyError",
          "evalue": "ignored",
          "traceback": [
            "\u001b[0;31m---------------------------------------------------------------------------\u001b[0m",
            "\u001b[0;31mKeyError\u001b[0m                                  Traceback (most recent call last)",
            "\u001b[0;32m<ipython-input-105-2fd83475c23e>\u001b[0m in \u001b[0;36m<cell line: 114>\u001b[0;34m()\u001b[0m\n\u001b[1;32m    113\u001b[0m \u001b[0;34m\u001b[0m\u001b[0m\n\u001b[1;32m    114\u001b[0m \u001b[0;32mif\u001b[0m \u001b[0m__name__\u001b[0m \u001b[0;34m==\u001b[0m \u001b[0;34m'__main__'\u001b[0m\u001b[0;34m:\u001b[0m\u001b[0;34m\u001b[0m\u001b[0;34m\u001b[0m\u001b[0m\n\u001b[0;32m--> 115\u001b[0;31m     \u001b[0mmain\u001b[0m\u001b[0;34m(\u001b[0m\u001b[0;34m)\u001b[0m\u001b[0;34m\u001b[0m\u001b[0;34m\u001b[0m\u001b[0m\n\u001b[0m",
            "\u001b[0;32m<ipython-input-105-2fd83475c23e>\u001b[0m in \u001b[0;36mmain\u001b[0;34m()\u001b[0m\n\u001b[1;32m     93\u001b[0m \u001b[0;34m\u001b[0m\u001b[0m\n\u001b[1;32m     94\u001b[0m     \u001b[0mprint\u001b[0m\u001b[0;34m(\u001b[0m\u001b[0;34m'\\n===== Start testing =====\\n'\u001b[0m\u001b[0;34m)\u001b[0m\u001b[0;34m\u001b[0m\u001b[0;34m\u001b[0m\u001b[0m\n\u001b[0;32m---> 95\u001b[0;31m     \u001b[0mtest_loss\u001b[0m\u001b[0;34m,\u001b[0m \u001b[0mtest_acc\u001b[0m\u001b[0;34m,\u001b[0m \u001b[0mlist_true\u001b[0m\u001b[0;34m,\u001b[0m \u001b[0mlist_pred\u001b[0m \u001b[0;34m=\u001b[0m \u001b[0mtest\u001b[0m\u001b[0;34m(\u001b[0m\u001b[0mmodel\u001b[0m\u001b[0;34m,\u001b[0m \u001b[0mtest_loader\u001b[0m\u001b[0;34m,\u001b[0m \u001b[0mcriterion\u001b[0m\u001b[0;34m)\u001b[0m\u001b[0;34m\u001b[0m\u001b[0;34m\u001b[0m\u001b[0m\n\u001b[0m\u001b[1;32m     96\u001b[0m \u001b[0;34m\u001b[0m\u001b[0m\n\u001b[1;32m     97\u001b[0m     \u001b[0mprint\u001b[0m\u001b[0;34m(\u001b[0m\u001b[0;34m'\\n===== Test result =====\\n'\u001b[0m\u001b[0;34m)\u001b[0m\u001b[0;34m\u001b[0m\u001b[0;34m\u001b[0m\u001b[0m\n",
            "\u001b[0;32m<ipython-input-105-2fd83475c23e>\u001b[0m in \u001b[0;36mtest\u001b[0;34m(model, valid_loader, criterion)\u001b[0m\n\u001b[1;32m     43\u001b[0m     \u001b[0mutils\u001b[0m\u001b[0;34m.\u001b[0m\u001b[0mlog_with_timestamp\u001b[0m\u001b[0;34m(\u001b[0m\u001b[0;34mf'Test ... 0%'\u001b[0m\u001b[0;34m)\u001b[0m\u001b[0;34m\u001b[0m\u001b[0;34m\u001b[0m\u001b[0m\n\u001b[1;32m     44\u001b[0m \u001b[0;34m\u001b[0m\u001b[0m\n\u001b[0;32m---> 45\u001b[0;31m     \u001b[0;32mfor\u001b[0m \u001b[0mi\u001b[0m\u001b[0;34m,\u001b[0m \u001b[0;34m(\u001b[0m\u001b[0mimage\u001b[0m\u001b[0;34m,\u001b[0m \u001b[0mlabel\u001b[0m\u001b[0;34m,\u001b[0m \u001b[0mname\u001b[0m\u001b[0;34m)\u001b[0m \u001b[0;32min\u001b[0m \u001b[0menumerate\u001b[0m\u001b[0;34m(\u001b[0m\u001b[0mvalid_loader\u001b[0m\u001b[0;34m)\u001b[0m\u001b[0;34m:\u001b[0m\u001b[0;34m\u001b[0m\u001b[0;34m\u001b[0m\u001b[0m\n\u001b[0m\u001b[1;32m     46\u001b[0m         \u001b[0;32mif\u001b[0m \u001b[0mis_cuda\u001b[0m \u001b[0;32mand\u001b[0m \u001b[0mcfg\u001b[0m\u001b[0;34m.\u001b[0m\u001b[0mgpu\u001b[0m \u001b[0;32mis\u001b[0m \u001b[0;32mnot\u001b[0m \u001b[0;32mNone\u001b[0m\u001b[0;34m:\u001b[0m\u001b[0;34m\u001b[0m\u001b[0;34m\u001b[0m\u001b[0m\n\u001b[1;32m     47\u001b[0m             \u001b[0mimage\u001b[0m \u001b[0;34m=\u001b[0m \u001b[0mimage\u001b[0m\u001b[0;34m.\u001b[0m\u001b[0mcuda\u001b[0m\u001b[0;34m(\u001b[0m\u001b[0mcfg\u001b[0m\u001b[0;34m.\u001b[0m\u001b[0mgpu\u001b[0m\u001b[0;34m,\u001b[0m \u001b[0mnon_blocking\u001b[0m\u001b[0;34m=\u001b[0m\u001b[0;32mTrue\u001b[0m\u001b[0;34m)\u001b[0m\u001b[0;34m\u001b[0m\u001b[0;34m\u001b[0m\u001b[0m\n",
            "\u001b[0;32m/usr/local/lib/python3.10/dist-packages/torch/utils/data/dataloader.py\u001b[0m in \u001b[0;36m__next__\u001b[0;34m(self)\u001b[0m\n\u001b[1;32m    628\u001b[0m                 \u001b[0;31m# TODO(https://github.com/pytorch/pytorch/issues/76750)\u001b[0m\u001b[0;34m\u001b[0m\u001b[0;34m\u001b[0m\u001b[0m\n\u001b[1;32m    629\u001b[0m                 \u001b[0mself\u001b[0m\u001b[0;34m.\u001b[0m\u001b[0m_reset\u001b[0m\u001b[0;34m(\u001b[0m\u001b[0;34m)\u001b[0m  \u001b[0;31m# type: ignore[call-arg]\u001b[0m\u001b[0;34m\u001b[0m\u001b[0;34m\u001b[0m\u001b[0m\n\u001b[0;32m--> 630\u001b[0;31m             \u001b[0mdata\u001b[0m \u001b[0;34m=\u001b[0m \u001b[0mself\u001b[0m\u001b[0;34m.\u001b[0m\u001b[0m_next_data\u001b[0m\u001b[0;34m(\u001b[0m\u001b[0;34m)\u001b[0m\u001b[0;34m\u001b[0m\u001b[0;34m\u001b[0m\u001b[0m\n\u001b[0m\u001b[1;32m    631\u001b[0m             \u001b[0mself\u001b[0m\u001b[0;34m.\u001b[0m\u001b[0m_num_yielded\u001b[0m \u001b[0;34m+=\u001b[0m \u001b[0;36m1\u001b[0m\u001b[0;34m\u001b[0m\u001b[0;34m\u001b[0m\u001b[0m\n\u001b[1;32m    632\u001b[0m             \u001b[0;32mif\u001b[0m \u001b[0mself\u001b[0m\u001b[0;34m.\u001b[0m\u001b[0m_dataset_kind\u001b[0m \u001b[0;34m==\u001b[0m \u001b[0m_DatasetKind\u001b[0m\u001b[0;34m.\u001b[0m\u001b[0mIterable\u001b[0m \u001b[0;32mand\u001b[0m\u001b[0;31m \u001b[0m\u001b[0;31m\\\u001b[0m\u001b[0;34m\u001b[0m\u001b[0;34m\u001b[0m\u001b[0m\n",
            "\u001b[0;32m/usr/local/lib/python3.10/dist-packages/torch/utils/data/dataloader.py\u001b[0m in \u001b[0;36m_next_data\u001b[0;34m(self)\u001b[0m\n\u001b[1;32m    672\u001b[0m     \u001b[0;32mdef\u001b[0m \u001b[0m_next_data\u001b[0m\u001b[0;34m(\u001b[0m\u001b[0mself\u001b[0m\u001b[0;34m)\u001b[0m\u001b[0;34m:\u001b[0m\u001b[0;34m\u001b[0m\u001b[0;34m\u001b[0m\u001b[0m\n\u001b[1;32m    673\u001b[0m         \u001b[0mindex\u001b[0m \u001b[0;34m=\u001b[0m \u001b[0mself\u001b[0m\u001b[0;34m.\u001b[0m\u001b[0m_next_index\u001b[0m\u001b[0;34m(\u001b[0m\u001b[0;34m)\u001b[0m  \u001b[0;31m# may raise StopIteration\u001b[0m\u001b[0;34m\u001b[0m\u001b[0;34m\u001b[0m\u001b[0m\n\u001b[0;32m--> 674\u001b[0;31m         \u001b[0mdata\u001b[0m \u001b[0;34m=\u001b[0m \u001b[0mself\u001b[0m\u001b[0;34m.\u001b[0m\u001b[0m_dataset_fetcher\u001b[0m\u001b[0;34m.\u001b[0m\u001b[0mfetch\u001b[0m\u001b[0;34m(\u001b[0m\u001b[0mindex\u001b[0m\u001b[0;34m)\u001b[0m  \u001b[0;31m# may raise StopIteration\u001b[0m\u001b[0;34m\u001b[0m\u001b[0;34m\u001b[0m\u001b[0m\n\u001b[0m\u001b[1;32m    675\u001b[0m         \u001b[0;32mif\u001b[0m \u001b[0mself\u001b[0m\u001b[0;34m.\u001b[0m\u001b[0m_pin_memory\u001b[0m\u001b[0;34m:\u001b[0m\u001b[0;34m\u001b[0m\u001b[0;34m\u001b[0m\u001b[0m\n\u001b[1;32m    676\u001b[0m             \u001b[0mdata\u001b[0m \u001b[0;34m=\u001b[0m \u001b[0m_utils\u001b[0m\u001b[0;34m.\u001b[0m\u001b[0mpin_memory\u001b[0m\u001b[0;34m.\u001b[0m\u001b[0mpin_memory\u001b[0m\u001b[0;34m(\u001b[0m\u001b[0mdata\u001b[0m\u001b[0;34m,\u001b[0m \u001b[0mself\u001b[0m\u001b[0;34m.\u001b[0m\u001b[0m_pin_memory_device\u001b[0m\u001b[0;34m)\u001b[0m\u001b[0;34m\u001b[0m\u001b[0;34m\u001b[0m\u001b[0m\n",
            "\u001b[0;32m/usr/local/lib/python3.10/dist-packages/torch/utils/data/_utils/fetch.py\u001b[0m in \u001b[0;36mfetch\u001b[0;34m(self, possibly_batched_index)\u001b[0m\n\u001b[1;32m     49\u001b[0m                 \u001b[0mdata\u001b[0m \u001b[0;34m=\u001b[0m \u001b[0mself\u001b[0m\u001b[0;34m.\u001b[0m\u001b[0mdataset\u001b[0m\u001b[0;34m.\u001b[0m\u001b[0m__getitems__\u001b[0m\u001b[0;34m(\u001b[0m\u001b[0mpossibly_batched_index\u001b[0m\u001b[0;34m)\u001b[0m\u001b[0;34m\u001b[0m\u001b[0;34m\u001b[0m\u001b[0m\n\u001b[1;32m     50\u001b[0m             \u001b[0;32melse\u001b[0m\u001b[0;34m:\u001b[0m\u001b[0;34m\u001b[0m\u001b[0;34m\u001b[0m\u001b[0m\n\u001b[0;32m---> 51\u001b[0;31m                 \u001b[0mdata\u001b[0m \u001b[0;34m=\u001b[0m \u001b[0;34m[\u001b[0m\u001b[0mself\u001b[0m\u001b[0;34m.\u001b[0m\u001b[0mdataset\u001b[0m\u001b[0;34m[\u001b[0m\u001b[0midx\u001b[0m\u001b[0;34m]\u001b[0m \u001b[0;32mfor\u001b[0m \u001b[0midx\u001b[0m \u001b[0;32min\u001b[0m \u001b[0mpossibly_batched_index\u001b[0m\u001b[0;34m]\u001b[0m\u001b[0;34m\u001b[0m\u001b[0;34m\u001b[0m\u001b[0m\n\u001b[0m\u001b[1;32m     52\u001b[0m         \u001b[0;32melse\u001b[0m\u001b[0;34m:\u001b[0m\u001b[0;34m\u001b[0m\u001b[0;34m\u001b[0m\u001b[0m\n\u001b[1;32m     53\u001b[0m             \u001b[0mdata\u001b[0m \u001b[0;34m=\u001b[0m \u001b[0mself\u001b[0m\u001b[0;34m.\u001b[0m\u001b[0mdataset\u001b[0m\u001b[0;34m[\u001b[0m\u001b[0mpossibly_batched_index\u001b[0m\u001b[0;34m]\u001b[0m\u001b[0;34m\u001b[0m\u001b[0;34m\u001b[0m\u001b[0m\n",
            "\u001b[0;32m/usr/local/lib/python3.10/dist-packages/torch/utils/data/_utils/fetch.py\u001b[0m in \u001b[0;36m<listcomp>\u001b[0;34m(.0)\u001b[0m\n\u001b[1;32m     49\u001b[0m                 \u001b[0mdata\u001b[0m \u001b[0;34m=\u001b[0m \u001b[0mself\u001b[0m\u001b[0;34m.\u001b[0m\u001b[0mdataset\u001b[0m\u001b[0;34m.\u001b[0m\u001b[0m__getitems__\u001b[0m\u001b[0;34m(\u001b[0m\u001b[0mpossibly_batched_index\u001b[0m\u001b[0;34m)\u001b[0m\u001b[0;34m\u001b[0m\u001b[0;34m\u001b[0m\u001b[0m\n\u001b[1;32m     50\u001b[0m             \u001b[0;32melse\u001b[0m\u001b[0;34m:\u001b[0m\u001b[0;34m\u001b[0m\u001b[0;34m\u001b[0m\u001b[0m\n\u001b[0;32m---> 51\u001b[0;31m                 \u001b[0mdata\u001b[0m \u001b[0;34m=\u001b[0m \u001b[0;34m[\u001b[0m\u001b[0mself\u001b[0m\u001b[0;34m.\u001b[0m\u001b[0mdataset\u001b[0m\u001b[0;34m[\u001b[0m\u001b[0midx\u001b[0m\u001b[0;34m]\u001b[0m \u001b[0;32mfor\u001b[0m \u001b[0midx\u001b[0m \u001b[0;32min\u001b[0m \u001b[0mpossibly_batched_index\u001b[0m\u001b[0;34m]\u001b[0m\u001b[0;34m\u001b[0m\u001b[0;34m\u001b[0m\u001b[0m\n\u001b[0m\u001b[1;32m     52\u001b[0m         \u001b[0;32melse\u001b[0m\u001b[0;34m:\u001b[0m\u001b[0;34m\u001b[0m\u001b[0;34m\u001b[0m\u001b[0m\n\u001b[1;32m     53\u001b[0m             \u001b[0mdata\u001b[0m \u001b[0;34m=\u001b[0m \u001b[0mself\u001b[0m\u001b[0;34m.\u001b[0m\u001b[0mdataset\u001b[0m\u001b[0;34m[\u001b[0m\u001b[0mpossibly_batched_index\u001b[0m\u001b[0;34m]\u001b[0m\u001b[0;34m\u001b[0m\u001b[0;34m\u001b[0m\u001b[0m\n",
            "\u001b[0;32m/content/drive/MyDrive/cnn/root/datasets.py\u001b[0m in \u001b[0;36m__getitem__\u001b[0;34m(self, index)\u001b[0m\n",
            "\u001b[0;31mKeyError\u001b[0m: '11'"
          ]
        }
      ]
    }
  ]
}