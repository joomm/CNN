{
  "nbformat": 4,
  "nbformat_minor": 0,
  "metadata": {
    "colab": {
      "provenance": [],
      "authorship_tag": "ABX9TyP80xIMA7G60XpABdZ2e/bO",
      "include_colab_link": true
    },
    "kernelspec": {
      "name": "python3",
      "display_name": "Python 3"
    },
    "language_info": {
      "name": "python"
    }
  },
  "cells": [
    {
      "cell_type": "markdown",
      "metadata": {
        "id": "view-in-github",
        "colab_type": "text"
      },
      "source": [
        "<a href=\"https://colab.research.google.com/github/joomm/CNN/blob/main/Resnet50.ipynb\" target=\"_parent\"><img src=\"https://colab.research.google.com/assets/colab-badge.svg\" alt=\"Open In Colab\"/></a>"
      ]
    },
    {
      "cell_type": "markdown",
      "source": [
        "압축파일풀기"
      ],
      "metadata": {
        "id": "XDLOHovnP-58"
      }
    },
    {
      "cell_type": "code",
      "execution_count": null,
      "metadata": {
        "colab": {
          "base_uri": "https://localhost:8080/"
        },
        "id": "YxC5d8s35qMZ",
        "outputId": "9a203dbe-e6da-44b7-8ab7-fe4211a3088b"
      },
      "outputs": [
        {
          "output_type": "stream",
          "name": "stdout",
          "text": [
            "/content/drive/MyDrive/cnn/root/dataset/11/정상\n"
          ]
        }
      ],
      "source": [
        "%cd /content/drive/MyDrive/cnn/root/dataset/11/정상\n",
        "\n",
        "!unzip -qq \"/content/drive/MyDrive/cnn/root/dataset/11/11.토마토_0.정상.zip\""
      ]
    },
    {
      "cell_type": "markdown",
      "source": [
        "---\n",
        "\n",
        "---\n",
        "\n",
        "\n",
        "\n",
        "\n",
        "\n"
      ],
      "metadata": {
        "id": "49XtJXwlQD61"
      }
    },
    {
      "cell_type": "code",
      "source": [
        "from google.colab import drive\n",
        "drive.mount('/content/drive')"
      ],
      "metadata": {
        "colab": {
          "base_uri": "https://localhost:8080/"
        },
        "id": "4yiquHz25rVI",
        "outputId": "ad9857a0-f4d2-4eb6-f92a-d44b8ff7fab3"
      },
      "execution_count": 1,
      "outputs": [
        {
          "output_type": "stream",
          "name": "stdout",
          "text": [
            "Mounted at /content/drive\n"
          ]
        }
      ]
    },
    {
      "cell_type": "code",
      "source": [
        "import sys\n",
        "# 모듈 저장\n",
        "with open('config.py', 'w') as file:\n",
        "    file.write(\"\"\"\n",
        "class config():\n",
        "    path_prefix = '/content/drive/MyDrive/cnn/root'\n",
        "    path_data = 'dataset'\n",
        "\n",
        "    dict_label = {'11': {'00':0, '18': 1, '19': 2}}\n",
        "\n",
        "    # general args\n",
        "    gpu = 0\n",
        "    train_size = (512, 512)\n",
        "    train_model = 'resnet50' #'ENet'\n",
        "    pnum = 77\n",
        "    crop_name = '11'\n",
        "    num_classes = 3\n",
        "\n",
        "    # Training args\n",
        "    train_data_dir = f'{path_prefix}/{path_data}/{crop_name}/test'\n",
        "    batch_size = 32\n",
        "    num_workers = 2\n",
        "    learning_rate = 0.001\n",
        "    num_epochs = 2\n",
        "\n",
        "    # testing args\n",
        "    # test_model_path = '/content/drive/MyDrive/cnn/root/weights/sample.pt'\n",
        "\"\"\")\n",
        "\n",
        "# config 모듈이 현재 sys.modules에 있는지 확인\n",
        "if 'config' in sys.modules:\n",
        "    # 모듈이 로드되어 있다면 모듈을 다시 로드\n",
        "    import importlib\n",
        "    import config\n",
        "    importlib.reload(config)\n",
        "\n",
        "    # config 모듈 내용 확인\n",
        "    print(config.__dict__)\n",
        "\n",
        "else:\n",
        "    # 모듈이 로드되어 있지 않다면 import 문을 통해 로드\n",
        "    import config"
      ],
      "metadata": {
        "id": "J6QpWQ4lDfwJ"
      },
      "execution_count": 2,
      "outputs": []
    },
    {
      "cell_type": "code",
      "source": [
        "import sys\n",
        "# 모듈 저장\n",
        "with open('transforms.py', 'w') as file:\n",
        "    file.write(\"\"\"\n",
        "import albumentations\n",
        "\n",
        "from config import config as cfg\n",
        "\n",
        "train_aug = albumentations.Compose([albumentations.Normalize(mean=[0.485, 0.456, 0.406],\n",
        "                                                             std=[0.229, 0.224, 0.225],\n",
        "                                                             max_pixel_value=255.0,\n",
        "                                                             p=1.0)\n",
        "                                   ],\n",
        "                                   p=1.0)\n",
        "\"\"\")\n",
        "# config 모듈이 현재 sys.modules에 있는지 확인\n",
        "if 'transforms' in sys.modules:\n",
        "    # 모듈이 로드되어 있다면 모듈을 다시 로드\n",
        "    import importlib\n",
        "    import transforms\n",
        "    importlib.reload(transforms)\n",
        "\n",
        "    # config 모듈 내용 확인\n",
        "    print(transforms.__dict__)\n",
        "\n",
        "else:\n",
        "    # 모듈이 로드되어 있지 않다면 import 문을 통해 로드\n",
        "    import transforms"
      ],
      "metadata": {
        "id": "2Ec1lxZjEod6"
      },
      "execution_count": 3,
      "outputs": []
    },
    {
      "cell_type": "code",
      "source": [
        "import sys\n",
        "# 모듈 저장\n",
        "with open('models.py', 'w') as file:\n",
        "    file.write(\"\"\"\n",
        "import torch.nn as nn\n",
        "import torchvision.models as models\n",
        "\n",
        "dict_backbone = {'resnet50' : models.resnet50}\n",
        "\n",
        "def get_model(model_name='resnet50', num_classes=3, pretrained=True): # use pretrained backbone\n",
        "    assert model_name in {'resnet50'}\n",
        "\n",
        "    # 미리 훈련된 가중치를 사용하여 ResNet 모델을 로드합니다.\n",
        "    network = models.resnet50(pretrained=pretrained)\n",
        "\n",
        "    # 모델의 모든 레이어를 순회하면서 마지막 레이어를 찾습니다.\n",
        "    for name, layer in network.named_children():\n",
        "        if name == 'fc':\n",
        "            # 'fc' 레이어를 찾으면 수정합니다.\n",
        "            setattr(network, name, nn.Linear(layer.in_features, num_classes))\n",
        "            break\n",
        "        elif isinstance(layer, nn.Linear):\n",
        "            # 레이어가 'fc' 레이어가 아니지만 Linear 레이어인 경우 수정합니다.\n",
        "            setattr(network, name, nn.Linear(layer.in_features, num_classes))\n",
        "            break\n",
        "\n",
        "    return network\n",
        "\"\"\")\n",
        "# config 모듈이 현재 sys.modules에 있는지 확인\n",
        "if 'models' in sys.modules:\n",
        "    # 모듈이 로드되어 있다면 모듈을 다시 로드\n",
        "    import importlib\n",
        "    import models\n",
        "    importlib.reload(models)\n",
        "\n",
        "    # config 모듈 내용 확인\n",
        "    print(models.__dict__)\n",
        "\n",
        "else:\n",
        "    # 모듈이 로드되어 있지 않다면 import 문을 통해 로드\n",
        "    import models"
      ],
      "metadata": {
        "id": "hIXr70wwCrgJ"
      },
      "execution_count": 4,
      "outputs": []
    },
    {
      "cell_type": "code",
      "source": [
        "import sys\n",
        "# 모듈 저장\n",
        "with open('utils.py', 'w') as file:\n",
        "    file.write(\"\"\"\n",
        "import os\n",
        "import numpy as np\n",
        "import datetime\n",
        "\n",
        "import torch\n",
        "\n",
        "def make_data(path, phase='test'):\n",
        "    path_images = []\n",
        "\n",
        "    for img_name in os.listdir(f'{path}/{phase}'):\n",
        "        if img_name.endswith(('.jpg', '.jpeg', '.png', '.JPG', '.JPEG', '.PNG')):\n",
        "            path_images.append(f'{path}/{phase}/{img_name}')\n",
        "\n",
        "    return np.stack(path_images)\n",
        "\n",
        "def cnt_correct(y_true, y_pred):\n",
        "    top_N, top_class = y_pred.topk(1, dim=-1)\n",
        "    equals = top_class == y_true.view(*top_class.shape)\n",
        "    return torch.sum(equals.type(torch.FloatTensor)).item()\n",
        "\n",
        "def log_with_timestamp(msg):\n",
        "    print(f'{datetime.datetime.today()} : {msg}')\n",
        "\n",
        "def bash_cmd(cmd):\n",
        "    print()\n",
        "    _ = os.system(cmd)\n",
        "    print()\n",
        "\"\"\")\n",
        "# config 모듈이 현재 sys.modules에 있는지 확인\n",
        "if 'utils' in sys.modules:\n",
        "    # 모듈이 로드되어 있다면 모듈을 다시 로드\n",
        "    import importlib\n",
        "    import utils\n",
        "    importlib.reload(utils)\n",
        "\n",
        "    # config 모듈 내용 확인\n",
        "    print(utils.__dict__)\n",
        "\n",
        "else:\n",
        "    # 모듈이 로드되어 있지 않다면 import 문을 통해 로드\n",
        "    import utils"
      ],
      "metadata": {
        "id": "5Z-ILCLWDPlJ"
      },
      "execution_count": 5,
      "outputs": []
    },
    {
      "cell_type": "code",
      "source": [
        "import sys\n",
        "# 모듈 저장\n",
        "with open('datasets.py', 'w') as file:\n",
        "    file.write(\"\"\"\n",
        "import cv2\n",
        "import numpy as np\n",
        "import json\n",
        "\n",
        "import torch\n",
        "from torch.utils.data import Dataset\n",
        "\n",
        "import transforms\n",
        "from config import config as cfg\n",
        "\n",
        "class CustomDataSet(Dataset):\n",
        "    def __init__(self, path_images, transform, test=False):\n",
        "        self.path_images = path_images\n",
        "        self.transform = transform\n",
        "        self.test = test\n",
        "\n",
        "    def __getitem__(self, index):\n",
        "        image = cv2.imread(self.path_images[index])[:,:,::-1]\n",
        "\n",
        "        with open(f'{self.path_images[index]}.json') as json_file:\n",
        "            json_decoded = json.load(json_file)\n",
        "        label = cfg.dict_label[f'{int(json_decoded[\"annotations\"][\"crop\"]):02d}'][f'{int(json_decoded[\"annotations\"][\"disease\"]):02d}']\n",
        "\n",
        "        resized_image = cv2.resize(image, cfg.train_size, interpolation = cv2.INTER_LANCZOS4) # INTER_AREA\n",
        "        augmented_image = self.transform(image=resized_image)['image']\n",
        "\n",
        "        if not self.test:\n",
        "            return torch.tensor(augmented_image.transpose(2,0,1)), torch.tensor(label).long()\n",
        "        else:\n",
        "            return torch.tensor(augmented_image.transpose(2,0,1)), torch.tensor(label).long(), self.path_images[index]\n",
        "\n",
        "    def __len__(self):\n",
        "        return len(self.path_images)\n",
        "\"\"\")\n",
        "# config 모듈이 현재 sys.modules에 있는지 확인\n",
        "if 'datasets' in sys.modules:\n",
        "    # 모듈이 로드되어 있다면 모듈을 다시 로드\n",
        "    import importlib\n",
        "    import datasets\n",
        "    importlib.reload(datasets)\n",
        "\n",
        "    # config 모듈 내용 확인\n",
        "    print(datasets.__dict__)\n",
        "\n",
        "else:\n",
        "    # 모듈이 로드되어 있지 않다면 import 문을 통해 로드\n",
        "    import datasets"
      ],
      "metadata": {
        "id": "4cqvv6VSDze5"
      },
      "execution_count": 6,
      "outputs": []
    },
    {
      "cell_type": "code",
      "source": [
        "import matplotlib.pyplot as plt\n",
        "import pandas as pd\n",
        "\n",
        "# 예제 데이터셋 (실제 데이터셋에 맞게 수정해야 함)\n",
        "data = {\n",
        "    'Class': [0, 1, 2],\n",
        "    'Count': [100, 150, 200]  # 각 클래스에 대한 데이터 개수\n",
        "}\n",
        "\n",
        "df = pd.DataFrame(data)\n",
        "\n",
        "# 그래프 그리기\n",
        "plt.figure(figsize=(8, 6))\n",
        "plt.bar(df['Class'], df['Count'], color='blue')\n",
        "plt.xlabel('Class')\n",
        "plt.ylabel('Count')\n",
        "plt.title('Class Distribution')\n",
        "plt.xticks(df['Class'])\n",
        "plt.show()"
      ],
      "metadata": {
        "colab": {
          "base_uri": "https://localhost:8080/",
          "height": 564
        },
        "id": "vVQxUfQWg4du",
        "outputId": "b90f9fdb-5e96-4c2b-cc39-d5c8f20e7c13"
      },
      "execution_count": 7,
      "outputs": [
        {
          "output_type": "display_data",
          "data": {
            "text/plain": [
              "<Figure size 800x600 with 1 Axes>"
            ],
            "image/png": "[encoded data removed]"
          },
          "metadata": {}
        }
      ]
    },
    {
      "cell_type": "code",
      "source": [
        "import torch\n",
        "from torch.utils.data import DataLoader\n",
        "import torch.optim as optim\n",
        "import torch.nn as nn\n",
        "from sklearn.metrics import classification_report, confusion_matrix\n",
        "import pandas as pd\n",
        "import os\n",
        "import matplotlib.pyplot as plt\n",
        "\n",
        "from datasets import CustomDataSet\n",
        "import transforms\n",
        "import utils\n",
        "from config import config as cfg\n",
        "from models import get_model\n",
        "\n",
        "def train(model, train_loader, optimizer, criterion):\n",
        "    model.train()\n",
        "\n",
        "    train_losses = []  # 학습 중에 Loss 값을 기록할 리스트\n",
        "\n",
        "    for epoch in range(cfg.num_epochs):\n",
        "        print(f'Epoch {epoch + 1}/{cfg.num_epochs} ...')\n",
        "\n",
        "        for i, (image, label) in enumerate(train_loader):\n",
        "            is_cuda = torch.cuda.is_available()\n",
        "\n",
        "            # 최적화기 초기화\n",
        "            optimizer.zero_grad()\n",
        "\n",
        "            # 순전파 및 손실 계산\n",
        "            pred = model(image)\n",
        "            loss = criterion(pred, label)\n",
        "\n",
        "            # 역전파\n",
        "            loss.backward()\n",
        "\n",
        "            # 가중치 업데이트\n",
        "            optimizer.step()\n",
        "\n",
        "            train_losses.append(loss.item())  # Loss 값을 기록\n",
        "\n",
        "            if (i + 1) % 10 == 0:\n",
        "                print(f'Train Batch {i + 1}/{len(train_loader)} - Loss: {loss.item()}')\n",
        "\n",
        "    print('Training finished.')\n",
        "\n",
        "    # Loss 값을 그래프로 플로팅\n",
        "    plt.plot(train_losses)\n",
        "    plt.title('Training Loss')\n",
        "    plt.xlabel('Batch')\n",
        "    plt.ylabel('Loss')\n",
        "    plt.show()\n",
        "\n",
        "def main():\n",
        "    # 데이터 로딩\n",
        "    path_images_train = utils.make_data(f'{cfg.path_prefix}/{cfg.path_data}/{cfg.crop_name}', 'test')\n",
        "    #path_images_test = utils.make_data(f'{cfg.path_prefix}/{cfg.path_data}/{cfg.crop_name}', 'test')\n",
        "\n",
        "    # 데이터셋 및 데이터로더 생성\n",
        "    train_dataset = CustomDataSet(path_images_train, transforms.train_aug, test=False)\n",
        "    train_loader = DataLoader(train_dataset, batch_size=cfg.batch_size, shuffle=True, num_workers=cfg.num_workers)\n",
        "\n",
        "    #test_dataset = CustomDataSet(path_images_train, transforms.test_aug, test=True)\n",
        "    #test_loader = DataLoader(test_dataset, batch_size=1, shuffle=False, num_workers=0)\n",
        "\n",
        "    # 모델 생성 및 옵티마이저, 손실 함수 정의\n",
        "    model = get_model(model_name=cfg.train_model, num_classes=cfg.num_classes, pretrained=True)\n",
        "\n",
        "    optimizer = optim.Adam(model.parameters(), lr=cfg.learning_rate)\n",
        "    criterion = nn.CrossEntropyLoss()\n",
        "\n",
        "    # 학습\n",
        "    train(model, train_loader, optimizer, criterion)\n",
        "\n",
        "    # 테스트\n",
        "    #test_loss, test_acc, list_true, list_pred = test(model, test_loader, criterion)\n",
        "\n",
        "    print('\\n===== Test result =====\\n')\n",
        "    print(classification_report(list_true, list_pred, digits=5))\n",
        "    print('\\n========= Confusion Matrix =========\\n')\n",
        "    print(confusion_matrix(list_true, list_pred))\n",
        "\n",
        "    print('\\nLog csv ... ')\n",
        "    df = pd.DataFrame({'image_name': path_images_test,\n",
        "                       'true': list_true,\n",
        "                       'pred': list_pred})\n",
        "\n",
        "    df.to_csv(f'{cfg.pnum}_{cfg.crop_name}_log_each_sample.csv')\n",
        "\n",
        "    print('\\n===== Finished testing =====')\n",
        "\n",
        "if __name__ == '__main__':\n",
        "    main()"
      ],
      "metadata": {
        "colab": {
          "base_uri": "https://localhost:8080/"
        },
        "id": "LUAEtKibZ-BZ",
        "outputId": "6cc7a205-cce0-49a9-ecfb-f41c70e64552"
      },
      "execution_count": null,
      "outputs": [
        {
          "output_type": "stream",
          "name": "stderr",
          "text": [
            "/usr/local/lib/python3.10/dist-packages/torchvision/models/_utils.py:208: UserWarning: The parameter 'pretrained' is deprecated since 0.13 and may be removed in the future, please use 'weights' instead.\n",
            "  warnings.warn(\n",
            "/usr/local/lib/python3.10/dist-packages/torchvision/models/_utils.py:223: UserWarning: Arguments other than a weight enum or `None` for 'weights' are deprecated since 0.13 and may be removed in the future. The current behavior is equivalent to passing `weights=ResNet50_Weights.IMAGENET1K_V1`. You can also use `weights=ResNet50_Weights.DEFAULT` to get the most up-to-date weights.\n",
            "  warnings.warn(msg)\n"
          ]
        },
        {
          "output_type": "stream",
          "name": "stdout",
          "text": [
            "Epoch 1/2 ...\n"
          ]
        }
      ]
    },
    {
      "cell_type": "code",
      "source": [
        "import os\n",
        "import numpy as np\n",
        "from tqdm import tqdm\n",
        "import pandas as pd\n",
        "\n",
        "import torch\n",
        "from torch.utils.data import DataLoader\n",
        "\n",
        "import torch.distributed as dist\n",
        "import torch.multiprocessing as mp\n",
        "from torch.nn.parallel import DistributedDataParallel\n",
        "\n",
        "import transforms\n",
        "import datasets\n",
        "import utils\n",
        "from models import get_model\n",
        "from config import config as cfg\n",
        "\n",
        "from sklearn.metrics import confusion_matrix, classification_report\n",
        "\n",
        "pnum = cfg.pnum\n",
        "crop_name = cfg.crop_name\n",
        "\n",
        "is_cuda = torch.cuda.is_available()\n",
        "\n",
        "os.environ['CUDA_VISIBLE_DEVICES'] = str(cfg.gpu)\n",
        "\n",
        "path_images_test = utils.make_data(f'{cfg.path_prefix}/{cfg.path_data}/{cfg.crop_name}', '3')\n",
        "\n",
        "def test(model, valid_loader, criterion):\n",
        "    model.eval()\n",
        "\n",
        "    list_true = []\n",
        "    list_pred = []\n",
        "\n",
        "    loss_sum = 0\n",
        "    correct_sum = 0\n",
        "\n",
        "    log_every = len(valid_loader)//5\n",
        "\n",
        "    len_data = 0\n",
        "\n",
        "    utils.log_with_timestamp(f'Test ... 0%')\n",
        "\n",
        "    for i, (image, label, name) in enumerate(valid_loader):\n",
        "        if is_cuda and cfg.gpu is not None:\n",
        "            image = image.cuda(cfg.gpu, non_blocking=True)\n",
        "            label = label.cuda(cfg.gpu, non_blocking=True)\n",
        "\n",
        "        pred = model(image)\n",
        "\n",
        "        loss = criterion(pred, label)\n",
        "        loss_sum += loss.item()\n",
        "\n",
        "        len_data += image.shape[0]\n",
        "        correct_sum += utils.cnt_correct(label, pred)\n",
        "\n",
        "        list_true.append(label.detach().cpu().numpy().flatten())\n",
        "        list_pred.append(pred.detach().cpu().numpy().argmax(-1).flatten())\n",
        "\n",
        "        if (i+1)%log_every == 0:\n",
        "            utils.log_with_timestamp(f'Test ... {((i+1)//log_every)*20}%')\n",
        "\n",
        "    return loss_sum/len_data, correct_sum/len_data, np.concatenate(list_true, axis=0), np.concatenate(list_pred, axis=0)\n",
        "\n",
        "\n",
        "def main():\n",
        "    print('========= Test Environment =========\\n')\n",
        "    _ = utils.bash_cmd('cat /proc/cpuinfo | grep \"model name\" | uniq')\n",
        "    _ = utils.bash_cmd('nvidia-smi')\n",
        "    _ = utils.bash_cmd('free -h')\n",
        "    _ = utils.bash_cmd('df /')\n",
        "    _ = utils.bash_cmd('cat /etc/os-release')\n",
        "\n",
        "    print('\\nPyTorch version: ', torch.__version__, '\\n')\n",
        "\n",
        "    utils.log_with_timestamp('Model loading ... ')\n",
        "    model = get_model(cfg.train_model, cfg.num_classes)\n",
        "    ckpt = torch.load(cfg.test_model_path, map_location='cpu')\n",
        "    model.load_state_dict(ckpt['model_state_dict'])\n",
        "\n",
        "    utils.log_with_timestamp('Model compiling ... ')\n",
        "    criterion = torch.nn.CrossEntropyLoss()\n",
        "\n",
        "    if cfg.gpu is not None and is_cuda:\n",
        "        utils.log_with_timestamp(f\"Use GPU: {cfg.gpu} for testing\")\n",
        "        torch.cuda.set_device(cfg.gpu)\n",
        "        model = model.cuda(cfg.gpu)\n",
        "    else:\n",
        "        utils.log_with_timestamp('Use CPU, this will be slow')\n",
        "\n",
        "    test_loader = DataLoader(datasets.CustomDataSet(path_images_test, transforms.test_aug, test=True), batch_size=1, shuffle=False, num_workers=0)\n",
        "\n",
        "    print('\\n===== Start testing =====\\n')\n",
        "    test_loss, test_acc, list_true, list_pred = test(model, test_loader, criterion)\n",
        "\n",
        "    print('\\n===== Test result =====\\n')\n",
        "    print(classification_report(list_true, list_pred, digits=5))\n",
        "    print('\\n========= Confusion Matrix =========\\n')\n",
        "    for rr in confusion_matrix(list_true, list_pred):\n",
        "        print(rr)\n",
        "\n",
        "    print('\\nLog csv ... ')\n",
        "    df = pd.DataFrame({'image_name': path_images_test,\n",
        "                       'true': list_true,\n",
        "                       'pred': list_pred})\n",
        "\n",
        "    df.to_csv(f'{pnum}_{crop_name}_log_each_sample.csv')\n",
        "\n",
        "    print('\\n===== Finished testing =====')\n",
        "\n",
        "    _ = utils.bash_cmd('sh rm_cache.sh')\n",
        "\n",
        "if __name__ == '__main__':\n",
        "    main()"
      ],
      "metadata": {
        "colab": {
          "base_uri": "https://localhost:8080/"
        },
        "id": "G8lhgxCsD_2Y",
        "outputId": "2910b38b-4398-4854-e2cc-6d3050feca10"
      },
      "execution_count": null,
      "outputs": [
        {
          "output_type": "stream",
          "name": "stdout",
          "text": [
            "========= Test Environment =========\n",
            "\n",
            "\n",
            "\n",
            "\n",
            "\n",
            "\n",
            "\n",
            "\n",
            "\n",
            "\n",
            "\n",
            "\n",
            "PyTorch version:  2.1.0+cu118 \n",
            "\n",
            "2023-12-06 16:35:48.623672 : Model loading ... \n"
          ]
        },
        {
          "output_type": "stream",
          "name": "stderr",
          "text": [
            "/usr/local/lib/python3.10/dist-packages/torchvision/models/_utils.py:208: UserWarning: The parameter 'pretrained' is deprecated since 0.13 and may be removed in the future, please use 'weights' instead.\n",
            "  warnings.warn(\n",
            "/usr/local/lib/python3.10/dist-packages/torchvision/models/_utils.py:223: UserWarning: Arguments other than a weight enum or `None` for 'weights' are deprecated since 0.13 and may be removed in the future. The current behavior is equivalent to passing `weights=None`.\n",
            "  warnings.warn(msg)\n"
          ]
        },
        {
          "output_type": "stream",
          "name": "stdout",
          "text": [
            "2023-12-06 16:35:54.224267 : Model compiling ... \n",
            "2023-12-06 16:35:54.224999 : Use GPU: 0 for testing\n",
            "\n",
            "===== Start testing =====\n",
            "\n",
            "2023-12-06 16:35:54.267776 : Test ... 0%\n",
            "2023-12-06 16:41:30.216492 : Test ... 20%\n",
            "2023-12-06 16:46:46.098710 : Test ... 40%\n",
            "2023-12-06 16:52:06.024025 : Test ... 60%\n",
            "2023-12-06 16:57:36.814354 : Test ... 80%\n",
            "2023-12-06 17:02:55.179908 : Test ... 100%\n",
            "\n",
            "===== Test result =====\n",
            "\n",
            "              precision    recall  f1-score   support\n",
            "\n",
            "           0    1.00000   0.19986   0.33314      4423\n",
            "           1    0.00000   0.00000   0.00000         0\n",
            "           2    0.00000   0.00000   0.00000         0\n",
            "\n",
            "    accuracy                        0.19986      4423\n",
            "   macro avg    0.33333   0.06662   0.11105      4423\n",
            "weighted avg    1.00000   0.19986   0.33314      4423\n",
            "\n",
            "\n",
            "========= Confusion Matrix =========\n",
            "\n",
            "[ 884 1198 2341]\n",
            "[0 0 0]\n",
            "[0 0 0]\n",
            "\n",
            "Log csv ... \n",
            "\n",
            "===== Finished testing =====\n",
            "\n",
            "\n"
          ]
        },
        {
          "output_type": "stream",
          "name": "stderr",
          "text": [
            "/usr/local/lib/python3.10/dist-packages/sklearn/metrics/_classification.py:1344: UndefinedMetricWarning: Recall and F-score are ill-defined and being set to 0.0 in labels with no true samples. Use `zero_division` parameter to control this behavior.\n",
            "  _warn_prf(average, modifier, msg_start, len(result))\n",
            "/usr/local/lib/python3.10/dist-packages/sklearn/metrics/_classification.py:1344: UndefinedMetricWarning: Recall and F-score are ill-defined and being set to 0.0 in labels with no true samples. Use `zero_division` parameter to control this behavior.\n",
            "  _warn_prf(average, modifier, msg_start, len(result))\n",
            "/usr/local/lib/python3.10/dist-packages/sklearn/metrics/_classification.py:1344: UndefinedMetricWarning: Recall and F-score are ill-defined and being set to 0.0 in labels with no true samples. Use `zero_division` parameter to control this behavior.\n",
            "  _warn_prf(average, modifier, msg_start, len(result))\n"
          ]
        }
      ]
    }
  ]
}